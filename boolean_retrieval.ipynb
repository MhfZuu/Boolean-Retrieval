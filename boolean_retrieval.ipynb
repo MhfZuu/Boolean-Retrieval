{
 "cells": [
  {
   "cell_type": "markdown",
   "metadata": {},
   "source": [
    "Nama Anggota:\n",
    "- Givari Akbar\n",
    "- Iqbal Pandu Santoso\n",
    "- Muhammad Hanif Zuhair\n",
    "- Narrendra Setyawan Bahar"
   ]
  },
  {
   "cell_type": "markdown",
   "metadata": {},
   "source": [
    "# Persiapan"
   ]
  },
  {
   "cell_type": "markdown",
   "metadata": {},
   "source": [
    "## Install Library"
   ]
  },
  {
   "cell_type": "code",
   "execution_count": 1,
   "metadata": {},
   "outputs": [
    {
     "name": "stdout",
     "output_type": "stream",
     "text": [
      "Requirement already satisfied: pyserini in c:\\users\\mybook hype amd\\appdata\\local\\programs\\python\\python311\\lib\\site-packages (1.2.0)\n",
      "Requirement already satisfied: tqdm in c:\\users\\mybook hype amd\\appdata\\local\\programs\\python\\python311\\lib\\site-packages (from pyserini) (4.67.1)\n",
      "Requirement already satisfied: pyyaml in c:\\users\\mybook hype amd\\appdata\\local\\programs\\python\\python311\\lib\\site-packages (from pyserini) (6.0.2)\n",
      "Requirement already satisfied: requests in c:\\users\\mybook hype amd\\appdata\\local\\programs\\python\\python311\\lib\\site-packages (from pyserini) (2.32.5)\n",
      "Requirement already satisfied: Cython>=0.29.21 in c:\\users\\mybook hype amd\\appdata\\local\\programs\\python\\python311\\lib\\site-packages (from pyserini) (3.1.3)\n",
      "Requirement already satisfied: numpy>=1.18.1 in c:\\users\\mybook hype amd\\appdata\\local\\programs\\python\\python311\\lib\\site-packages (from pyserini) (2.3.2)\n",
      "Requirement already satisfied: pandas>=1.4.0 in c:\\users\\mybook hype amd\\appdata\\local\\programs\\python\\python311\\lib\\site-packages (from pyserini) (2.3.2)\n",
      "Requirement already satisfied: pyjnius>=1.6.0 in c:\\users\\mybook hype amd\\appdata\\local\\programs\\python\\python311\\lib\\site-packages (from pyserini) (1.6.1)\n",
      "Requirement already satisfied: scikit-learn>=0.22.1 in c:\\users\\mybook hype amd\\appdata\\local\\programs\\python\\python311\\lib\\site-packages (from pyserini) (1.7.1)\n",
      "Requirement already satisfied: scipy>=1.4.1 in c:\\users\\mybook hype amd\\appdata\\local\\programs\\python\\python311\\lib\\site-packages (from pyserini) (1.16.1)\n",
      "Requirement already satisfied: transformers>=4.6.0 in c:\\users\\mybook hype amd\\appdata\\local\\programs\\python\\python311\\lib\\site-packages (from pyserini) (4.55.4)\n",
      "Requirement already satisfied: torch>=2.4.0 in c:\\users\\mybook hype amd\\appdata\\local\\programs\\python\\python311\\lib\\site-packages (from pyserini) (2.8.0)\n",
      "Requirement already satisfied: onnxruntime>=1.8.1 in c:\\users\\mybook hype amd\\appdata\\local\\programs\\python\\python311\\lib\\site-packages (from pyserini) (1.22.1)\n",
      "Requirement already satisfied: openai>=1.0.0 in c:\\users\\mybook hype amd\\appdata\\local\\programs\\python\\python311\\lib\\site-packages (from pyserini) (1.101.0)\n",
      "Requirement already satisfied: sentencepiece>=0.2 in c:\\users\\mybook hype amd\\appdata\\local\\programs\\python\\python311\\lib\\site-packages (from pyserini) (0.2.1)\n",
      "Requirement already satisfied: tiktoken>=0.4.0 in c:\\users\\mybook hype amd\\appdata\\local\\programs\\python\\python311\\lib\\site-packages (from pyserini) (0.11.0)\n",
      "Requirement already satisfied: flask>3.0 in c:\\users\\mybook hype amd\\appdata\\local\\programs\\python\\python311\\lib\\site-packages (from pyserini) (3.1.2)\n",
      "Requirement already satisfied: pillow>=10.2.0 in c:\\users\\mybook hype amd\\appdata\\local\\programs\\python\\python311\\lib\\site-packages (from pyserini) (11.3.0)\n",
      "Requirement already satisfied: fastapi>=0.70.0 in c:\\users\\mybook hype amd\\appdata\\local\\programs\\python\\python311\\lib\\site-packages (from pyserini) (0.116.1)\n",
      "Requirement already satisfied: uvicorn>=0.13.0 in c:\\users\\mybook hype amd\\appdata\\local\\programs\\python\\python311\\lib\\site-packages (from pyserini) (0.35.0)\n",
      "Requirement already satisfied: mcp>=1.9.4 in c:\\users\\mybook hype amd\\appdata\\local\\programs\\python\\python311\\lib\\site-packages (from pyserini) (1.13.1)\n",
      "Requirement already satisfied: starlette<0.48.0,>=0.40.0 in c:\\users\\mybook hype amd\\appdata\\local\\programs\\python\\python311\\lib\\site-packages (from fastapi>=0.70.0->pyserini) (0.47.3)\n",
      "Requirement already satisfied: pydantic!=1.8,!=1.8.1,!=2.0.0,!=2.0.1,!=2.1.0,<3.0.0,>=1.7.4 in c:\\users\\mybook hype amd\\appdata\\local\\programs\\python\\python311\\lib\\site-packages (from fastapi>=0.70.0->pyserini) (2.11.7)\n",
      "Requirement already satisfied: typing-extensions>=4.8.0 in c:\\users\\mybook hype amd\\appdata\\roaming\\python\\python311\\site-packages (from fastapi>=0.70.0->pyserini) (4.15.0)\n",
      "Requirement already satisfied: blinker>=1.9.0 in c:\\users\\mybook hype amd\\appdata\\local\\programs\\python\\python311\\lib\\site-packages (from flask>3.0->pyserini) (1.9.0)\n",
      "Requirement already satisfied: click>=8.1.3 in c:\\users\\mybook hype amd\\appdata\\local\\programs\\python\\python311\\lib\\site-packages (from flask>3.0->pyserini) (8.2.1)\n",
      "Requirement already satisfied: itsdangerous>=2.2.0 in c:\\users\\mybook hype amd\\appdata\\local\\programs\\python\\python311\\lib\\site-packages (from flask>3.0->pyserini) (2.2.0)\n",
      "Requirement already satisfied: jinja2>=3.1.2 in c:\\users\\mybook hype amd\\appdata\\local\\programs\\python\\python311\\lib\\site-packages (from flask>3.0->pyserini) (3.1.6)\n",
      "Requirement already satisfied: markupsafe>=2.1.1 in c:\\users\\mybook hype amd\\appdata\\local\\programs\\python\\python311\\lib\\site-packages (from flask>3.0->pyserini) (3.0.2)\n",
      "Requirement already satisfied: werkzeug>=3.1.0 in c:\\users\\mybook hype amd\\appdata\\local\\programs\\python\\python311\\lib\\site-packages (from flask>3.0->pyserini) (3.1.3)\n",
      "Requirement already satisfied: anyio>=4.5 in c:\\users\\mybook hype amd\\appdata\\local\\programs\\python\\python311\\lib\\site-packages (from mcp>=1.9.4->pyserini) (4.10.0)\n",
      "Requirement already satisfied: httpx-sse>=0.4 in c:\\users\\mybook hype amd\\appdata\\local\\programs\\python\\python311\\lib\\site-packages (from mcp>=1.9.4->pyserini) (0.4.1)\n",
      "Requirement already satisfied: httpx>=0.27.1 in c:\\users\\mybook hype amd\\appdata\\local\\programs\\python\\python311\\lib\\site-packages (from mcp>=1.9.4->pyserini) (0.28.1)\n",
      "Requirement already satisfied: jsonschema>=4.20.0 in c:\\users\\mybook hype amd\\appdata\\local\\programs\\python\\python311\\lib\\site-packages (from mcp>=1.9.4->pyserini) (4.25.1)\n",
      "Requirement already satisfied: pydantic-settings>=2.5.2 in c:\\users\\mybook hype amd\\appdata\\local\\programs\\python\\python311\\lib\\site-packages (from mcp>=1.9.4->pyserini) (2.10.1)\n",
      "Requirement already satisfied: python-multipart>=0.0.9 in c:\\users\\mybook hype amd\\appdata\\local\\programs\\python\\python311\\lib\\site-packages (from mcp>=1.9.4->pyserini) (0.0.20)\n",
      "Requirement already satisfied: pywin32>=310 in c:\\users\\mybook hype amd\\appdata\\roaming\\python\\python311\\site-packages (from mcp>=1.9.4->pyserini) (311)\n",
      "Requirement already satisfied: sse-starlette>=1.6.1 in c:\\users\\mybook hype amd\\appdata\\local\\programs\\python\\python311\\lib\\site-packages (from mcp>=1.9.4->pyserini) (3.0.2)\n",
      "Requirement already satisfied: coloredlogs in c:\\users\\mybook hype amd\\appdata\\local\\programs\\python\\python311\\lib\\site-packages (from onnxruntime>=1.8.1->pyserini) (15.0.1)\n",
      "Requirement already satisfied: flatbuffers in c:\\users\\mybook hype amd\\appdata\\local\\programs\\python\\python311\\lib\\site-packages (from onnxruntime>=1.8.1->pyserini) (25.2.10)\n",
      "Requirement already satisfied: packaging in c:\\users\\mybook hype amd\\appdata\\roaming\\python\\python311\\site-packages (from onnxruntime>=1.8.1->pyserini) (25.0)\n",
      "Requirement already satisfied: protobuf in c:\\users\\mybook hype amd\\appdata\\local\\programs\\python\\python311\\lib\\site-packages (from onnxruntime>=1.8.1->pyserini) (6.32.0)\n",
      "Requirement already satisfied: sympy in c:\\users\\mybook hype amd\\appdata\\local\\programs\\python\\python311\\lib\\site-packages (from onnxruntime>=1.8.1->pyserini) (1.14.0)\n",
      "Requirement already satisfied: distro<2,>=1.7.0 in c:\\users\\mybook hype amd\\appdata\\local\\programs\\python\\python311\\lib\\site-packages (from openai>=1.0.0->pyserini) (1.9.0)\n",
      "Requirement already satisfied: jiter<1,>=0.4.0 in c:\\users\\mybook hype amd\\appdata\\local\\programs\\python\\python311\\lib\\site-packages (from openai>=1.0.0->pyserini) (0.10.0)\n",
      "Requirement already satisfied: sniffio in c:\\users\\mybook hype amd\\appdata\\local\\programs\\python\\python311\\lib\\site-packages (from openai>=1.0.0->pyserini) (1.3.1)\n",
      "Requirement already satisfied: python-dateutil>=2.8.2 in c:\\users\\mybook hype amd\\appdata\\roaming\\python\\python311\\site-packages (from pandas>=1.4.0->pyserini) (2.9.0.post0)\n",
      "Requirement already satisfied: pytz>=2020.1 in c:\\users\\mybook hype amd\\appdata\\local\\programs\\python\\python311\\lib\\site-packages (from pandas>=1.4.0->pyserini) (2025.2)\n",
      "Requirement already satisfied: tzdata>=2022.7 in c:\\users\\mybook hype amd\\appdata\\local\\programs\\python\\python311\\lib\\site-packages (from pandas>=1.4.0->pyserini) (2025.2)\n",
      "Requirement already satisfied: joblib>=1.2.0 in c:\\users\\mybook hype amd\\appdata\\local\\programs\\python\\python311\\lib\\site-packages (from scikit-learn>=0.22.1->pyserini) (1.5.1)\n",
      "Requirement already satisfied: threadpoolctl>=3.1.0 in c:\\users\\mybook hype amd\\appdata\\local\\programs\\python\\python311\\lib\\site-packages (from scikit-learn>=0.22.1->pyserini) (3.6.0)\n",
      "Requirement already satisfied: regex>=2022.1.18 in c:\\users\\mybook hype amd\\appdata\\local\\programs\\python\\python311\\lib\\site-packages (from tiktoken>=0.4.0->pyserini) (2025.7.34)\n",
      "Requirement already satisfied: charset_normalizer<4,>=2 in c:\\users\\mybook hype amd\\appdata\\local\\programs\\python\\python311\\lib\\site-packages (from requests->pyserini) (3.4.3)\n",
      "Requirement already satisfied: idna<4,>=2.5 in c:\\users\\mybook hype amd\\appdata\\local\\programs\\python\\python311\\lib\\site-packages (from requests->pyserini) (3.10)\n",
      "Requirement already satisfied: urllib3<3,>=1.21.1 in c:\\users\\mybook hype amd\\appdata\\local\\programs\\python\\python311\\lib\\site-packages (from requests->pyserini) (2.5.0)\n",
      "Requirement already satisfied: certifi>=2017.4.17 in c:\\users\\mybook hype amd\\appdata\\local\\programs\\python\\python311\\lib\\site-packages (from requests->pyserini) (2025.8.3)\n",
      "Requirement already satisfied: filelock in c:\\users\\mybook hype amd\\appdata\\local\\programs\\python\\python311\\lib\\site-packages (from torch>=2.4.0->pyserini) (3.19.1)\n",
      "Requirement already satisfied: networkx in c:\\users\\mybook hype amd\\appdata\\local\\programs\\python\\python311\\lib\\site-packages (from torch>=2.4.0->pyserini) (3.5)\n",
      "Requirement already satisfied: fsspec in c:\\users\\mybook hype amd\\appdata\\local\\programs\\python\\python311\\lib\\site-packages (from torch>=2.4.0->pyserini) (2025.7.0)\n",
      "Requirement already satisfied: colorama in c:\\users\\mybook hype amd\\appdata\\roaming\\python\\python311\\site-packages (from tqdm->pyserini) (0.4.6)\n",
      "Requirement already satisfied: huggingface-hub<1.0,>=0.34.0 in c:\\users\\mybook hype amd\\appdata\\local\\programs\\python\\python311\\lib\\site-packages (from transformers>=4.6.0->pyserini) (0.34.4)\n",
      "Requirement already satisfied: tokenizers<0.22,>=0.21 in c:\\users\\mybook hype amd\\appdata\\local\\programs\\python\\python311\\lib\\site-packages (from transformers>=4.6.0->pyserini) (0.21.4)\n",
      "Requirement already satisfied: safetensors>=0.4.3 in c:\\users\\mybook hype amd\\appdata\\local\\programs\\python\\python311\\lib\\site-packages (from transformers>=4.6.0->pyserini) (0.6.2)\n",
      "Requirement already satisfied: h11>=0.8 in c:\\users\\mybook hype amd\\appdata\\local\\programs\\python\\python311\\lib\\site-packages (from uvicorn>=0.13.0->pyserini) (0.16.0)\n",
      "Requirement already satisfied: httpcore==1.* in c:\\users\\mybook hype amd\\appdata\\local\\programs\\python\\python311\\lib\\site-packages (from httpx>=0.27.1->mcp>=1.9.4->pyserini) (1.0.9)\n",
      "Requirement already satisfied: attrs>=22.2.0 in c:\\users\\mybook hype amd\\appdata\\local\\programs\\python\\python311\\lib\\site-packages (from jsonschema>=4.20.0->mcp>=1.9.4->pyserini) (25.3.0)\n",
      "Requirement already satisfied: jsonschema-specifications>=2023.03.6 in c:\\users\\mybook hype amd\\appdata\\local\\programs\\python\\python311\\lib\\site-packages (from jsonschema>=4.20.0->mcp>=1.9.4->pyserini) (2025.4.1)\n",
      "Requirement already satisfied: referencing>=0.28.4 in c:\\users\\mybook hype amd\\appdata\\local\\programs\\python\\python311\\lib\\site-packages (from jsonschema>=4.20.0->mcp>=1.9.4->pyserini) (0.36.2)\n",
      "Requirement already satisfied: rpds-py>=0.7.1 in c:\\users\\mybook hype amd\\appdata\\local\\programs\\python\\python311\\lib\\site-packages (from jsonschema>=4.20.0->mcp>=1.9.4->pyserini) (0.27.0)\n",
      "Requirement already satisfied: annotated-types>=0.6.0 in c:\\users\\mybook hype amd\\appdata\\local\\programs\\python\\python311\\lib\\site-packages (from pydantic!=1.8,!=1.8.1,!=2.0.0,!=2.0.1,!=2.1.0,<3.0.0,>=1.7.4->fastapi>=0.70.0->pyserini) (0.7.0)\n",
      "Requirement already satisfied: pydantic-core==2.33.2 in c:\\users\\mybook hype amd\\appdata\\local\\programs\\python\\python311\\lib\\site-packages (from pydantic!=1.8,!=1.8.1,!=2.0.0,!=2.0.1,!=2.1.0,<3.0.0,>=1.7.4->fastapi>=0.70.0->pyserini) (2.33.2)\n",
      "Requirement already satisfied: typing-inspection>=0.4.0 in c:\\users\\mybook hype amd\\appdata\\local\\programs\\python\\python311\\lib\\site-packages (from pydantic!=1.8,!=1.8.1,!=2.0.0,!=2.0.1,!=2.1.0,<3.0.0,>=1.7.4->fastapi>=0.70.0->pyserini) (0.4.1)\n",
      "Requirement already satisfied: python-dotenv>=0.21.0 in c:\\users\\mybook hype amd\\appdata\\local\\programs\\python\\python311\\lib\\site-packages (from pydantic-settings>=2.5.2->mcp>=1.9.4->pyserini) (1.1.1)\n",
      "Requirement already satisfied: six>=1.5 in c:\\users\\mybook hype amd\\appdata\\roaming\\python\\python311\\site-packages (from python-dateutil>=2.8.2->pandas>=1.4.0->pyserini) (1.17.0)\n",
      "Requirement already satisfied: mpmath<1.4,>=1.1.0 in c:\\users\\mybook hype amd\\appdata\\local\\programs\\python\\python311\\lib\\site-packages (from sympy->onnxruntime>=1.8.1->pyserini) (1.3.0)\n",
      "Requirement already satisfied: humanfriendly>=9.1 in c:\\users\\mybook hype amd\\appdata\\local\\programs\\python\\python311\\lib\\site-packages (from coloredlogs->onnxruntime>=1.8.1->pyserini) (10.0)\n",
      "Requirement already satisfied: pyreadline3 in c:\\users\\mybook hype amd\\appdata\\local\\programs\\python\\python311\\lib\\site-packages (from humanfriendly>=9.1->coloredlogs->onnxruntime>=1.8.1->pyserini) (3.5.4)\n",
      "Note: you may need to restart the kernel to use updated packages.\n"
     ]
    },
    {
     "name": "stderr",
     "output_type": "stream",
     "text": [
      "\n",
      "[notice] A new release of pip available: 22.3.1 -> 25.2\n",
      "[notice] To update, run: python.exe -m pip install --upgrade pip\n"
     ]
    }
   ],
   "source": [
    "%pip install pyserini"
   ]
  },
  {
   "cell_type": "code",
   "execution_count": 14,
   "metadata": {},
   "outputs": [
    {
     "name": "stdout",
     "output_type": "stream",
     "text": [
      "Requirement already satisfied: nltk in c:\\users\\mybook hype amd\\appdata\\local\\programs\\python\\python311\\lib\\site-packages (3.9.1)\n",
      "Requirement already satisfied: click in c:\\users\\mybook hype amd\\appdata\\local\\programs\\python\\python311\\lib\\site-packages (from nltk) (8.2.1)\n",
      "Requirement already satisfied: joblib in c:\\users\\mybook hype amd\\appdata\\local\\programs\\python\\python311\\lib\\site-packages (from nltk) (1.5.1)\n",
      "Requirement already satisfied: regex>=2021.8.3 in c:\\users\\mybook hype amd\\appdata\\local\\programs\\python\\python311\\lib\\site-packages (from nltk) (2025.7.34)\n",
      "Requirement already satisfied: tqdm in c:\\users\\mybook hype amd\\appdata\\local\\programs\\python\\python311\\lib\\site-packages (from nltk) (4.67.1)\n",
      "Requirement already satisfied: colorama in c:\\users\\mybook hype amd\\appdata\\roaming\\python\\python311\\site-packages (from click->nltk) (0.4.6)\n",
      "Note: you may need to restart the kernel to use updated packages.\n"
     ]
    },
    {
     "name": "stderr",
     "output_type": "stream",
     "text": [
      "\n",
      "[notice] A new release of pip available: 22.3.1 -> 25.2\n",
      "[notice] To update, run: python.exe -m pip install --upgrade pip\n"
     ]
    }
   ],
   "source": [
    "%pip install nltk"
   ]
  },
  {
   "cell_type": "markdown",
   "metadata": {},
   "source": [
    "## Import Library"
   ]
  },
  {
   "cell_type": "code",
   "execution_count": 15,
   "metadata": {},
   "outputs": [],
   "source": [
    "import nltk\n",
    "from nltk.corpus import stopwords\n",
    "import json\n",
    "import os\n",
    "from pyserini.search.lucene import LuceneSearcher"
   ]
  },
  {
   "cell_type": "markdown",
   "metadata": {},
   "source": [
    "## Definisi Dokumen"
   ]
  },
  {
   "cell_type": "code",
   "execution_count": 16,
   "metadata": {},
   "outputs": [],
   "source": [
    "docs = [\n",
    "  (\"d1\",  \"The cat chased a small mouse into the garden.\"),\n",
    "  (\"d2\",  \"A friendly dog played fetch by the river.\"),\n",
    "  (\"d3\",  \"BM25 is a ranking function widely used in search engines.\"),\n",
    "  (\"d4\",  \"Boolean retrieval uses logical operators like AND and OR.\"),\n",
    "  (\"d5\",  \"TF-IDF weights terms by frequency and rarity.\"),\n",
    "  (\"d6\",  \"Neural retrieval uses dense embeddings for semantic search.\"),\n",
    "  (\"d7\",  \"The dog and the cat slept on the same couch.\"),\n",
    "  (\"d8\",  \"The library hosts a workshop on information retrieval.\"),\n",
    "  (\"d9\",  \"Students implemented BM25 and compared it with TF-IDF.\"),\n",
    "  (\"d10\", \"The chef roasted chicken with rosemary and garlic.\"),\n",
    "  (\"d11\", \"A black cat crossed the old stone bridge at night.\"),\n",
    "  (\"d12\", \"Dogs are loyal companions during long hikes.\"),\n",
    "  (\"d13\", \"The dataset contains fifteen short sentences for testing.\"),\n",
    "  (\"d14\", \"Reranking models reorder BM25 candidates using transformers.\"),\n",
    "  (\"d15\", \"The dog sniffed a cat but ignored the mouse.\")\n",
    "]"
   ]
  },
  {
   "cell_type": "markdown",
   "metadata": {},
   "source": [
    "# Preprocessing"
   ]
  },
  {
   "cell_type": "code",
   "execution_count": 21,
   "metadata": {},
   "outputs": [
    {
     "name": "stderr",
     "output_type": "stream",
     "text": [
      "[nltk_data] Downloading package stopwords to C:\\Users\\MyBook Hype\n",
      "[nltk_data]     AMD\\AppData\\Roaming\\nltk_data...\n",
      "[nltk_data]   Package stopwords is already up-to-date!\n",
      "[nltk_data] Downloading package punkt to C:\\Users\\MyBook Hype\n",
      "[nltk_data]     AMD\\AppData\\Roaming\\nltk_data...\n",
      "[nltk_data]   Package punkt is already up-to-date!\n",
      "[nltk_data] Downloading package punkt_tab to C:\\Users\\MyBook Hype\n",
      "[nltk_data]     AMD\\AppData\\Roaming\\nltk_data...\n",
      "[nltk_data]   Unzipping tokenizers\\punkt_tab.zip.\n"
     ]
    },
    {
     "data": {
      "text/plain": [
       "True"
      ]
     },
     "execution_count": 21,
     "metadata": {},
     "output_type": "execute_result"
    }
   ],
   "source": [
    "nltk.download('stopwords')\n",
    "nltk.download('punkt')\n",
    "nltk.download('punkt_tab')"
   ]
  },
  {
   "cell_type": "code",
   "execution_count": 18,
   "metadata": {},
   "outputs": [],
   "source": [
    "def preprocessing(docs):\n",
    "    preprocessed_docs = []\n",
    "    stop_words = set(stopwords.words('english'))\n",
    "    for doc_id, doc in docs:\n",
    "        # Mengubah ke lowecase\n",
    "        doc = doc.lower()\n",
    "        tokens = nltk.word_tokenize(doc)\n",
    "        # Menghilangkan stopwords\n",
    "        filtered_tokens = [word for word in tokens if word.isalpha() and word not in stop_words]\n",
    "\n",
    "        cleaned_doc = ' '.join(filtered_tokens)\n",
    "        preprocessed_docs.append((doc_id, cleaned_doc))\n",
    "    return preprocessed_docs"
   ]
  },
  {
   "cell_type": "code",
   "execution_count": 25,
   "metadata": {},
   "outputs": [
    {
     "name": "stdout",
     "output_type": "stream",
     "text": [
      "d1: cat chased small mouse garden\n",
      "d2: friendly dog played fetch river\n",
      "d3: ranking function widely used search engines\n",
      "d4: boolean retrieval uses logical operators like\n",
      "d5: weights terms frequency rarity\n",
      "d6: neural retrieval uses dense embeddings semantic search\n",
      "d7: dog cat slept couch\n",
      "d8: library hosts workshop information retrieval\n",
      "d9: students implemented compared\n",
      "d10: chef roasted chicken rosemary garlic\n",
      "d11: black cat crossed old stone bridge night\n",
      "d12: dogs loyal companions long hikes\n",
      "d13: dataset contains fifteen short sentences testing\n",
      "d14: reranking models reorder candidates using transformers\n",
      "d15: dog sniffed cat ignored mouse\n"
     ]
    }
   ],
   "source": [
    "docs_res = preprocessing(docs)\n",
    "for docs_id, doc in docs_res:\n",
    "    print(f\"{docs_id}: {doc}\")"
   ]
  },
  {
   "cell_type": "markdown",
   "metadata": {},
   "source": [
    "## Indexing Corpus + Stemming"
   ]
  },
  {
   "cell_type": "markdown",
   "metadata": {},
   "source": [
    "## Menyimpan Hasil Preprocessing ke JSONL "
   ]
  },
  {
   "cell_type": "code",
   "execution_count": 26,
   "metadata": {},
   "outputs": [],
   "source": [
    "jsonl_path = 'documents.jsonl'\n",
    "documents = [{'id': doc_id, 'contents': doc} for doc_id, doc in docs_res]\n",
    "\n",
    "if not os.path.exists('docs'):\n",
    "    os.makedirs('docs')\n",
    "\n",
    "with open(os.path.join('docs', jsonl_path), 'w') as f:\n",
    "    for doc in documents:\n",
    "        f.write(json.dumps(doc) + '\\n')"
   ]
  },
  {
   "cell_type": "markdown",
   "metadata": {},
   "source": [
    "## Menjalankan Indexing + Stemming"
   ]
  },
  {
   "cell_type": "code",
   "execution_count": 27,
   "metadata": {},
   "outputs": [
    {
     "name": "stdout",
     "output_type": "stream",
     "text": [
      "2025-08-26 12:17:59,630 INFO  [main] index.AbstractIndexer (AbstractIndexer.java:205) - Setting log level to INFO\n",
      "2025-08-26 12:17:59,634 INFO  [main] index.AbstractIndexer (AbstractIndexer.java:208) - ============ Loading Index Configuration ============\n",
      "2025-08-26 12:17:59,635 INFO  [main] index.AbstractIndexer (AbstractIndexer.java:209) - AbstractIndexer settings:\n",
      "2025-08-26 12:17:59,635 INFO  [main] index.AbstractIndexer (AbstractIndexer.java:210) -  + DocumentCollection path: docs\n",
      "2025-08-26 12:17:59,635 INFO  [main] index.AbstractIndexer (AbstractIndexer.java:211) -  + CollectionClass: JsonCollection\n",
      "2025-08-26 12:17:59,636 INFO  [main] index.AbstractIndexer (AbstractIndexer.java:212) -  + Index path: indexes/sample_collection_jsonl\n",
      "2025-08-26 12:17:59,637 INFO  [main] index.AbstractIndexer (AbstractIndexer.java:213) -  + Threads: 1\n",
      "2025-08-26 12:17:59,638 INFO  [main] index.AbstractIndexer (AbstractIndexer.java:214) -  + Optimize (merge segments)? false\n",
      "2025-08-26 12:17:59,704 INFO  [main] index.IndexCollection (IndexCollection.java:246) - Using DefaultEnglishAnalyzer\n",
      "2025-08-26 12:17:59,704 INFO  [main] index.IndexCollection (IndexCollection.java:247) - Stemmer: porter\n",
      "2025-08-26 12:17:59,705 INFO  [main] index.IndexCollection (IndexCollection.java:248) - Keep stopwords? false\n",
      "2025-08-26 12:17:59,705 INFO  [main] index.IndexCollection (IndexCollection.java:249) - Stopwords file: null\n",
      "2025-08-26 12:17:59,886 INFO  [main] index.IndexCollection (IndexCollection.java:197) - IndexCollection settings:\n",
      "2025-08-26 12:17:59,886 INFO  [main] index.IndexCollection (IndexCollection.java:198) -  + Generator: DefaultLuceneDocumentGenerator\n",
      "2025-08-26 12:17:59,887 INFO  [main] index.IndexCollection (IndexCollection.java:199) -  + Language: en\n",
      "2025-08-26 12:17:59,888 INFO  [main] index.IndexCollection (IndexCollection.java:200) -  + Stemmer: porter\n",
      "2025-08-26 12:17:59,888 INFO  [main] index.IndexCollection (IndexCollection.java:201) -  + Keep stopwords? false\n",
      "2025-08-26 12:17:59,889 INFO  [main] index.IndexCollection (IndexCollection.java:202) -  + Stopwords: null\n",
      "2025-08-26 12:17:59,890 INFO  [main] index.IndexCollection (IndexCollection.java:203) -  + Store positions? true\n",
      "2025-08-26 12:17:59,890 INFO  [main] index.IndexCollection (IndexCollection.java:204) -  + Store docvectors? true\n",
      "2025-08-26 12:17:59,890 INFO  [main] index.IndexCollection (IndexCollection.java:205) -  + Store document \"contents\" field? false\n",
      "2025-08-26 12:17:59,892 INFO  [main] index.IndexCollection (IndexCollection.java:206) -  + Store document \"raw\" field? true\n",
      "2025-08-26 12:17:59,893 INFO  [main] index.IndexCollection (IndexCollection.java:207) -  + Additional fields to index: []\n",
      "2025-08-26 12:17:59,893 INFO  [main] index.IndexCollection (IndexCollection.java:208) -  + Whitelist: null\n",
      "2025-08-26 12:17:59,893 INFO  [main] index.IndexCollection (IndexCollection.java:209) -  + Pretokenized?: false\n",
      "2025-08-26 12:17:59,894 INFO  [main] index.IndexCollection (IndexCollection.java:210) -  + Codec: Lucene99\n",
      "2025-08-26 12:17:59,895 INFO  [main] index.AbstractIndexer (AbstractIndexer.java:238) - ============ Indexing Collection ============\n",
      "2025-08-26 12:17:59,898 INFO  [main] index.AbstractIndexer (AbstractIndexer.java:247) - Thread pool with 1 threads initialized.\n",
      "2025-08-26 12:17:59,899 INFO  [main] index.AbstractIndexer (AbstractIndexer.java:248) - 1 file found in docs\n",
      "2025-08-26 12:17:59,899 INFO  [main] index.AbstractIndexer (AbstractIndexer.java:249) - Starting to index...\n",
      "2025-08-26 12:18:00,297 INFO  [main] index.AbstractIndexer (AbstractIndexer.java:307) - Indexing Complete! 15 documents indexed\n",
      "2025-08-26 12:18:00,297 INFO  [main] index.AbstractIndexer (AbstractIndexer.java:308) - ============ Final Counter Values ============\n",
      "2025-08-26 12:18:00,298 INFO  [main] index.AbstractIndexer (AbstractIndexer.java:309) - indexed:               15\n",
      "2025-08-26 12:18:00,298 INFO  [main] index.AbstractIndexer (AbstractIndexer.java:310) - unindexable:            0\n",
      "2025-08-26 12:18:00,298 INFO  [main] index.AbstractIndexer (AbstractIndexer.java:311) - empty:                  0\n",
      "2025-08-26 12:18:00,299 INFO  [main] index.AbstractIndexer (AbstractIndexer.java:312) - skipped:                0\n",
      "2025-08-26 12:18:00,300 INFO  [main] index.AbstractIndexer (AbstractIndexer.java:313) - errors:                 0\n",
      "2025-08-26 12:18:00,306 INFO  [main] index.AbstractIndexer (AbstractIndexer.java:316) - Total 15 documents indexed in 00:00:00\n"
     ]
    },
    {
     "name": "stderr",
     "output_type": "stream",
     "text": [
      "WARNING: Using incubator modules: jdk.incubator.vector\n",
      "Aug 26, 2025 12:17:59 PM org.apache.lucene.store.MMapDirectory lookupProvider\n",
      "WARNING: You are running with Java 22 or later. To make full use of MMapDirectory, please update Apache Lucene.\n"
     ]
    }
   ],
   "source": [
    "!python -m pyserini.index.lucene \\\n",
    "  --collection JsonCollection \\\n",
    "  --input docs \\\n",
    "  --index indexes/sample_collection_jsonl \\\n",
    "  --generator DefaultLuceneDocumentGenerator \\\n",
    "  --threads 1 \\\n",
    "  --stemmer porter \\\n",
    "  --storePositions --storeDocvectors --storeRaw"
   ]
  },
  {
   "cell_type": "code",
   "execution_count": null,
   "metadata": {},
   "outputs": [],
   "source": []
  }
 ],
 "metadata": {
  "kernelspec": {
   "display_name": "Python 3",
   "language": "python",
   "name": "python3"
  },
  "language_info": {
   "codemirror_mode": {
    "name": "ipython",
    "version": 3
   },
   "file_extension": ".py",
   "mimetype": "text/x-python",
   "name": "python",
   "nbconvert_exporter": "python",
   "pygments_lexer": "ipython3",
   "version": "3.11.2"
  }
 },
 "nbformat": 4,
 "nbformat_minor": 2
}
